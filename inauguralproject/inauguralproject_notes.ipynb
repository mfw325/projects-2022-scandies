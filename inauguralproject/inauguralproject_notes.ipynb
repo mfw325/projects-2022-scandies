{
 "cells": [
  {
   "cell_type": "markdown",
   "metadata": {},
   "source": [
    "# Inaugural Project"
   ]
  },
  {
   "cell_type": "markdown",
   "metadata": {},
   "source": [
    "> **Note the following:** \n",
    "> 1. This is an example of how to structure your **inaugural project**.\n",
    "> 1. Remember the general advice on structuring and commenting your code from [lecture 5](https://numeconcopenhagen.netlify.com/lectures/Workflow_and_debugging).\n",
    "> 1. Remember this [guide](https://www.markdownguide.org/basic-syntax/) on markdown and (a bit of) latex.\n",
    "> 1. Turn on automatic numbering by clicking on the small icon on top of the table of contents in the left sidebar.\n",
    "> 1. The `inauguralproject.py` file includes a function which can be used multiple times in this notebook."
   ]
  },
  {
   "cell_type": "markdown",
   "metadata": {},
   "source": [
    "Imports and set magics:"
   ]
  },
  {
   "cell_type": "code",
   "execution_count": 4,
   "metadata": {},
   "outputs": [],
   "source": [
    "from types import SimpleNamespace\n",
    "import numpy as np \n",
    "from scipy import optimize \n",
    "import matplotlib.pyplot as plt \n"
   ]
  },
  {
   "cell_type": "markdown",
   "metadata": {},
   "source": [
    "# Question 1"
   ]
  },
  {
   "cell_type": "markdown",
   "metadata": {},
   "source": [
    "To answer the first question, we start out by setting the parameters to the known values. Then we proceed to define the utility function, the premium function, the expected utility function when the agent is insured and lastly the agent's optimal insurance coverage."
   ]
  },
  {
   "cell_type": "code",
   "execution_count": 5,
   "metadata": {},
   "outputs": [],
   "source": [
    "# Setting the parameters:\n",
    "y = 1\n",
    "p = 0.2\n",
    "theta = -2\n",
    "N = 100\n",
    "\n",
    "# Defining utility:\n",
    "def u(z, theta) -> float:\n",
    "    \"\"\"Takes two parameters and returns the utility\"\"\"\n",
    "    return (z**(1 + theta)) / (1 + theta)\n",
    "\n",
    "# Defining the premium:\n",
    "def pi(p, q):\n",
    "    \"\"\"Takes two parameters and returns the premium policy\"\"\"\n",
    "    return (p * q)\n",
    "\n",
    "# Defining expected utility if insured\n",
    "def V(q, x, y, p) -> float:\n",
    "    \"\"\"Takes four parameters,\n",
    "    returns the expected utility of an insured agent\"\"\"\n",
    "    first_term = p * u(y - x + q - pi(p, q), theta)\n",
    "\n",
    "    second_term = (1-p) * u(y - pi(p, q), theta)\n",
    "    \n",
    "    return first_term + second_term\n",
    "\n",
    "# Defining optimal insurance coverage:\n",
    "def q_star(x, y, p):\n",
    "    \"\"\"Maximizes the expected utility if insured w.r.t q,\n",
    "    Returns the agent's optimal insurance coverage\"\"\"\n",
    "    obj = lambda q: -V(q, x, y, p)\n",
    "    res = optimize.minimize_scalar(obj, bounds = (0, x), method = 'bounded')\n",
    "    return res.x"
   ]
  },
  {
   "cell_type": "markdown",
   "metadata": {},
   "source": [
    "Now we create a grid for the x's, where we want the range to be between 0.01 and 0.9, and an empty grid for the q's. Then we loop over all the xs to calculate the optimal insurance coverage, q*, for each level of monetary loss, x."
   ]
  },
  {
   "cell_type": "code",
   "execution_count": 9,
   "metadata": {},
   "outputs": [],
   "source": [
    "# ii) Grid for xs and qs\n",
    "xs = np.linspace(0.01, 0.9, N)\n",
    "qs = np.zeros(N)\n",
    "\n",
    "# iii) For each x calculate q*\n",
    "for i, x in enumerate(xs):\n",
    "    qs[i] = q_star(xs[i], y, p)"
   ]
  },
  {
   "cell_type": "markdown",
   "metadata": {},
   "source": [
    "Lastly, we plot the x's and the q's and see that the graph suggests that a higher monetary loss x entails a higher optimal coverage amount q."
   ]
  },
  {
   "cell_type": "code",
   "execution_count": 14,
   "metadata": {},
   "outputs": [
    {
     "data": {
      "image/png": "[encoded data removed]",
      "text/plain": [
       "<Figure size 432x288 with 1 Axes>"
      ]
     },
     "metadata": {
      "needs_background": "light"
     },
     "output_type": "display_data"
    }
   ],
   "source": [
    "# iv) Plot the xs and qs\n",
    "fig = plt.figure()\n",
    "ax = fig.add_subplot(1, 1, 1)\n",
    "ax.plot(xs, qs, color = 'green', label = 'Optimal q* per x')\n",
    "\n",
    "ax.set_xlabel('$x$: monetary loss')\n",
    "ax.set_ylabel('$q$: coverage amount')\n",
    "\n",
    "ax.legend(loc='upper left');"
   ]
  },
  {
   "cell_type": "markdown",
   "metadata": {},
   "source": [
    "# Question 2"
   ]
  },
  {
   "cell_type": "markdown",
   "metadata": {},
   "source": [
    "The goal is to find the set of acceptable contracts from the agent's point of view.\n",
    "We let the monetary loss be set to x = 0.6 and create a function for the expected value\n",
    "of not having insurance. We construct a new grid of the q's and an empty one for the pi's."
   ]
  },
  {
   "cell_type": "code",
   "execution_count": 11,
   "metadata": {},
   "outputs": [],
   "source": [
    "# i) Setting the parameters:\n",
    "x = 0.6\n",
    "\n",
    "# Defining expected value if no insurance\n",
    "def V_null(p:float) -> float:\n",
    "    \"\"\"Takes one parameter p,\n",
    "    returns the expected value if not insured\"\"\"\n",
    "    return p*u(y - x, theta) + (1 - p)*u(y, theta)\n",
    "\n",
    "# Constructing a new grid of qs as well as an empty grid for the pi's \n",
    "qs_new = np.linspace(0.01, 0.6, N)\n",
    "pi_new = np.zeros(N)"
   ]
  },
  {
   "cell_type": "markdown",
   "metadata": {},
   "source": [
    "We make a new function for expected utility when having an insurance,\n",
    "since pi is now a variable that has to be solved for. \n",
    "We create another objective function in order to optimize pi, with the constraint that all insurance contracts will yield an expected value at least as good as the case of not having an insurance."
   ]
  },
  {
   "cell_type": "code",
   "execution_count": 12,
   "metadata": {},
   "outputs": [],
   "source": [
    "#ii)\n",
    "def V_pi(pi, q, x, y, p) -> float:\n",
    "    \"\"\"Takes four parameters,\n",
    "    returns the expected utility of an insured agent\"\"\"\n",
    "    first_term = p * u(y - x + q - pi, theta)\n",
    "\n",
    "    second_term = (1-p) * u(y - pi, theta)\n",
    "    \n",
    "    return first_term + second_term \n",
    "\n",
    "# Defining optimal premium policy and optimizing pi:\n",
    "def pi_star(q, x, y, p, V_null): \n",
    "    \"\"\"Finds the optimal premium policy\n",
    "    \n",
    "    Parameters: \n",
    "        q = coverage amount\n",
    "        x = monetary loss\n",
    "        y = assets held by agent\n",
    "        p = probability at which loss is incurred\n",
    "        V_null = expected utility when not insured\n",
    "    \n",
    "    Returns: Optimizes the difference between expected utility if insured\n",
    "    vs. if not insured w.r.t. pi = premium\"\"\"\n",
    "    def obj(pi):\n",
    "        return V_pi(pi, q, x, y, p) - V_null\n",
    "    obj = lambda pi: V_pi(pi, q, x, y, p) - V_null\n",
    "    res = optimize.root_scalar(obj, bracket=[0, q], method='brentq')\n",
    "    return res.root\n",
    "\n",
    "for i, q in enumerate(qs_new):\n",
    "    pi_new[i] = pi_star(qs_new[i], x, y, p, V_null(p))"
   ]
  },
  {
   "cell_type": "markdown",
   "metadata": {},
   "source": [
    "Lastly, we plot the results including both the optimal pi* per q, the premium policy found in question 1, as well as the set of acceptable contracts."
   ]
  },
  {
   "cell_type": "code",
   "execution_count": 13,
   "metadata": {},
   "outputs": [
    {
     "data": {
      "image/png": "[encoded data removed]",
      "text/plain": [
       "<Figure size 432x288 with 1 Axes>"
      ]
     },
     "metadata": {
      "needs_background": "light"
     },
     "output_type": "display_data"
    }
   ],
   "source": [
    "#iii) \n",
    "fig = plt.figure()\n",
    "ax = fig.add_subplot(1, 1, 1)\n",
    "ax.plot(qs_new, pi_new, color = 'red', label = 'Optimal pi* per q')\n",
    "ax.plot(qs_new, p*qs_new, color = 'green', label = 'Premium policy')\n",
    "ax.fill_between(qs_new, p*qs_new, pi_new, color = 'lightblue', label = 'Set of acceptable contracts')\n",
    "ax.set_xlabel('$q$: coverage amount')\n",
    "ax.set_ylabel('$pi$: premium')\n",
    "ax.grid(True)\n",
    "ax.legend(loc='upper left');"
   ]
  },
  {
   "cell_type": "markdown",
   "metadata": {},
   "source": [
    "# Question 3"
   ]
  },
  {
   "cell_type": "markdown",
   "metadata": {},
   "source": [
    "In this question we define a Monte Carlo function in order to find the preferred insurance policy from the agent's point of view. The loss, x, is drawn from a beta distribution. Thus, by the Law of Large Numbers, we can approximate the true integral, representing the agent's value, with a finite sample:\n",
    "$$\n",
    "\\mathbb{E}[\\mathbf{V}(\\gamma, \\pi)] \\approx \\frac{1}{N}\\sum_{i=1}^{N} \\mathbf{V}(\\gamma_i, \\pi_i) \n",
    "$$"
   ]
  },
  {
   "cell_type": "markdown",
   "metadata": {},
   "source": [
    "In the first part, we set the parameters and define the new expected utility. Then we create a Monte Carlo function that, by the Law of Large Numbers, computes the agent's value."
   ]
  },
  {
   "cell_type": "code",
   "execution_count": 18,
   "metadata": {},
   "outputs": [],
   "source": [
    "# i)\n",
    "# Setting the parameters:\n",
    "alpha = 2\n",
    "beta = 7\n",
    "N = 10000\n",
    "\n",
    "\n",
    "# Defining the new expected utility\n",
    "def V_beta(gamma, pi): \n",
    "    \"\"\"Takes two parameters: gamma and pi,\n",
    "    Returns the new expected utility\"\"\"\n",
    "    return u(y - (1 - gamma)*x - pi, theta)\n",
    "\n",
    "# Defining the monte carlo function:\n",
    "def monte_carlo(y, p, N, gamma, pi):\n",
    "    \"\"\"\"Draws x from the beta distribution with N = 10000\n",
    "    and uses this to return the mean of the new expected utility\"\"\"\n",
    "    x = np.random.beta(alpha, beta, N)\n",
    "    return np.mean(V_beta(x, pi))"
   ]
  },
  {
   "cell_type": "markdown",
   "metadata": {},
   "source": [
    "We then call the monte carlo fucntion for different values of gamma and pi.\n",
    "We define the two cases as policy1 and policy2."
   ]
  },
  {
   "cell_type": "code",
   "execution_count": 20,
   "metadata": {},
   "outputs": [
    {
     "name": "stdout",
     "output_type": "stream",
     "text": [
      "Expected utility of policy 1 is: -3.169\n",
      "Expected utility of policy 2 is: -2.377\n"
     ]
    }
   ],
   "source": [
    "# ii)\n",
    "policy1 = monte_carlo(y, p, N, gamma = 0.9, pi = 0.2)\n",
    "policy2 = monte_carlo(y, p, N, gamma = 0.45, pi = 0.1)\n",
    "\n",
    "print(f'Expected utility of policy 1 is: {policy1:0.3f}')\n",
    "print(f'Expected utility of policy 2 is: {policy2:0.3f}')"
   ]
  },
  {
   "cell_type": "markdown",
   "metadata": {},
   "source": [
    "We can see that both policies yields negative utility. However, the insurance policy where the coverage ratio gamma is 0.45 and the premium pi is 0.1 is preferable since this will yield the smallest loss in utility for the agent."
   ]
  },
  {
   "cell_type": "markdown",
   "metadata": {},
   "source": [
    "# Question 4"
   ]
  },
  {
   "cell_type": "markdown",
   "metadata": {},
   "source": [
    "In this question, we want to consider the optimal policy from the insurance company's point of view. We set the coverage ratio, gamma, equal to 0.95.\n",
    "Given this parameter, the insurance company wants to maximize its profits\n",
    "and we will try to find the optimal premium, pi."
   ]
  },
  {
   "cell_type": "code",
   "execution_count": 34,
   "metadata": {},
   "outputs": [],
   "source": [
    "\n",
    "#i)\n",
    "gamma = 0.95\n",
    "\n",
    "def pi_star2(p, x, pi, gamma): \n",
    "    def obj(pi):\n",
    "        return p * (gamma * x)\n",
    "    obj = lambda pi: p * (gamma * x)\n",
    "    res = optimize.root(obj, [0, 0], method = 'broyden1')\n",
    "    return res.root\n",
    "\n",
    "#qs_1 = np.linspace(0.01, 0.9, N)\n",
    "#pi_1 = np.zeros(N)\n",
    "\n",
    "#for i, q in enumerate(qs_1):\n",
    "#    pi_1[i] = pi_star2(p, qs_1[i], pi, gamma)\n"
   ]
  },
  {
   "cell_type": "markdown",
   "metadata": {},
   "source": [
    "We have not been able get a value out of our last optimatization above. Help would be very much appreciated! :-)"
   ]
  },
  {
   "cell_type": "markdown",
   "metadata": {},
   "source": [
    "All functions in py file\n",
    "\n",
    "Then to get that in the IPYNB use FROM my_func IMPORT * \n",
    "(.py fil = my_func)"
   ]
  },
  {
   "cell_type": "markdown",
   "metadata": {},
   "source": [
    "ADD CONCISE CONLUSION."
   ]
  }
 ],
 "metadata": {
  "kernelspec": {
   "display_name": "Python 3 (ipykernel)",
   "language": "python",
   "name": "python3"
  },
  "language_info": {
   "codemirror_mode": {
    "name": "ipython",
    "version": 3
   },
   "file_extension": ".py",
   "mimetype": "text/x-python",
   "name": "python",
   "nbconvert_exporter": "python",
   "pygments_lexer": "ipython3",
   "version": "3.9.7"
  },
  "toc-autonumbering": true
 },
 "nbformat": 4,
 "nbformat_minor": 4
}
